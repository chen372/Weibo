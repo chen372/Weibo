{
 "cells": [
  {
   "cell_type": "markdown",
   "metadata": {},
   "source": [
    "# Purpose\n",
    "After filtering out the spammers, we can now work on the weibo data. The goal of this purpose is to study users with foreign API. "
   ]
  },
  {
   "cell_type": "code",
   "execution_count": 1,
   "metadata": {
    "collapsed": false
   },
   "outputs": [],
   "source": [
    "import csv\n",
    "import pandas as pd\n",
    "import numpy as np"
   ]
  },
  {
   "cell_type": "code",
   "execution_count": 2,
   "metadata": {
    "collapsed": false
   },
   "outputs": [
    {
     "name": "stdout",
     "output_type": "stream",
     "text": [
      "892539\n"
     ]
    },
    {
     "data": {
      "text/html": [
       "<div>\n",
       "<table border=\"1\" class=\"dataframe\">\n",
       "  <thead>\n",
       "    <tr style=\"text-align: right;\">\n",
       "      <th></th>\n",
       "      <th>hashtag_count</th>\n",
       "      <th>mention_count</th>\n",
       "      <th>text</th>\n",
       "      <th>time</th>\n",
       "      <th>url_count</th>\n",
       "      <th>userid</th>\n",
       "    </tr>\n",
       "  </thead>\n",
       "  <tbody>\n",
       "    <tr>\n",
       "      <th>0</th>\n",
       "      <td>0</td>\n",
       "      <td>0</td>\n",
       "      <td>冷言冷语。。。继续。。。这样很好。。。</td>\n",
       "      <td>2012-09-03 00:03:19</td>\n",
       "      <td>0</td>\n",
       "      <td>uWWBCGJE4</td>\n",
       "    </tr>\n",
       "    <tr>\n",
       "      <th>1</th>\n",
       "      <td>0</td>\n",
       "      <td>1</td>\n",
       "      <td>傻子 过去就过去了 越想只会让自己 越来越TM看不起自己 恨自己不是吗？有什么了不起的 人不...</td>\n",
       "      <td>2012-09-03 00:04:12</td>\n",
       "      <td>0</td>\n",
       "      <td>u1O52TEBM</td>\n",
       "    </tr>\n",
       "    <tr>\n",
       "      <th>2</th>\n",
       "      <td>0</td>\n",
       "      <td>0</td>\n",
       "      <td>闲来无事，想破人QQ空间密码，于是点击了一个美女的空间，提问：“请问男生最喜欢什么花！”我暗...</td>\n",
       "      <td>2012-09-03 00:02:10</td>\n",
       "      <td>0</td>\n",
       "      <td>u0AGHHPXK</td>\n",
       "    </tr>\n",
       "    <tr>\n",
       "      <th>3</th>\n",
       "      <td>0</td>\n",
       "      <td>0</td>\n",
       "      <td>北京今天，泛起秋意。</td>\n",
       "      <td>2012-09-03 00:07:36</td>\n",
       "      <td>0</td>\n",
       "      <td>uVGJLC4S5</td>\n",
       "    </tr>\n",
       "    <tr>\n",
       "      <th>4</th>\n",
       "      <td>0</td>\n",
       "      <td>2</td>\n",
       "      <td>@_@</td>\n",
       "      <td>2012-09-03 02:09:32</td>\n",
       "      <td>0</td>\n",
       "      <td>uATZPTH53</td>\n",
       "    </tr>\n",
       "  </tbody>\n",
       "</table>\n",
       "</div>"
      ],
      "text/plain": [
       "   hashtag_count  mention_count  \\\n",
       "0              0              0   \n",
       "1              0              1   \n",
       "2              0              0   \n",
       "3              0              0   \n",
       "4              0              2   \n",
       "\n",
       "                                                text                 time  \\\n",
       "0                                冷言冷语。。。继续。。。这样很好。。。  2012-09-03 00:03:19   \n",
       "1  傻子 过去就过去了 越想只会让自己 越来越TM看不起自己 恨自己不是吗？有什么了不起的 人不...  2012-09-03 00:04:12   \n",
       "2  闲来无事，想破人QQ空间密码，于是点击了一个美女的空间，提问：“请问男生最喜欢什么花！”我暗...  2012-09-03 00:02:10   \n",
       "3                                         北京今天，泛起秋意。  2012-09-03 00:07:36   \n",
       "4                                                @_@  2012-09-03 02:09:32   \n",
       "\n",
       "   url_count     userid  \n",
       "0          0  uWWBCGJE4  \n",
       "1          0  u1O52TEBM  \n",
       "2          0  u0AGHHPXK  \n",
       "3          0  uVGJLC4S5  \n",
       "4          0  uATZPTH53  "
      ]
     },
     "execution_count": 2,
     "metadata": {},
     "output_type": "execute_result"
    }
   ],
   "source": [
    "df = pd.read_csv('normal_all2')\n",
    "print len(df)\n",
    "df.head()"
   ]
  },
  {
   "cell_type": "markdown",
   "metadata": {},
   "source": [
    "# Oversea users"
   ]
  },
  {
   "cell_type": "code",
   "execution_count": 3,
   "metadata": {
    "collapsed": false
   },
   "outputs": [
    {
     "data": {
      "text/plain": [
       "['uQZ0ZT0QG', 'uVEQW3AIG', 'uVGJLOI2R', 'uYC335VVO']"
      ]
     },
     "execution_count": 3,
     "metadata": {},
     "output_type": "execute_result"
    }
   ],
   "source": [
    "f1 = open('oversea_users.csv')\n",
    "csv_f1 = csv.reader(f1)\n",
    "\n",
    "oversea = []\n",
    "for row in csv_f1:\n",
    "    oversea.append(row[0])\n",
    "    \n",
    "oversea[:4]"
   ]
  },
  {
   "cell_type": "code",
   "execution_count": 4,
   "metadata": {
    "collapsed": false
   },
   "outputs": [
    {
     "name": "stdout",
     "output_type": "stream",
     "text": [
      "26010\n"
     ]
    }
   ],
   "source": [
    "oversea_user_set = set(oversea)\n",
    "print len(oversea_user_set)"
   ]
  },
  {
   "cell_type": "code",
   "execution_count": 5,
   "metadata": {
    "collapsed": false
   },
   "outputs": [
    {
     "name": "stdout",
     "output_type": "stream",
     "text": [
      "892539\n"
     ]
    },
    {
     "data": {
      "text/html": [
       "<div>\n",
       "<table border=\"1\" class=\"dataframe\">\n",
       "  <thead>\n",
       "    <tr style=\"text-align: right;\">\n",
       "      <th></th>\n",
       "      <th>hashtag_count</th>\n",
       "      <th>mention_count</th>\n",
       "      <th>text</th>\n",
       "      <th>time</th>\n",
       "      <th>url_count</th>\n",
       "      <th>userid</th>\n",
       "      <th>is_oversea</th>\n",
       "    </tr>\n",
       "  </thead>\n",
       "  <tbody>\n",
       "    <tr>\n",
       "      <th>0</th>\n",
       "      <td>0</td>\n",
       "      <td>0</td>\n",
       "      <td>冷言冷语。。。继续。。。这样很好。。。</td>\n",
       "      <td>2012-09-03 00:03:19</td>\n",
       "      <td>0</td>\n",
       "      <td>uWWBCGJE4</td>\n",
       "      <td>0</td>\n",
       "    </tr>\n",
       "    <tr>\n",
       "      <th>1</th>\n",
       "      <td>0</td>\n",
       "      <td>1</td>\n",
       "      <td>傻子 过去就过去了 越想只会让自己 越来越TM看不起自己 恨自己不是吗？有什么了不起的 人不...</td>\n",
       "      <td>2012-09-03 00:04:12</td>\n",
       "      <td>0</td>\n",
       "      <td>u1O52TEBM</td>\n",
       "      <td>1</td>\n",
       "    </tr>\n",
       "    <tr>\n",
       "      <th>2</th>\n",
       "      <td>0</td>\n",
       "      <td>0</td>\n",
       "      <td>闲来无事，想破人QQ空间密码，于是点击了一个美女的空间，提问：“请问男生最喜欢什么花！”我暗...</td>\n",
       "      <td>2012-09-03 00:02:10</td>\n",
       "      <td>0</td>\n",
       "      <td>u0AGHHPXK</td>\n",
       "      <td>0</td>\n",
       "    </tr>\n",
       "    <tr>\n",
       "      <th>3</th>\n",
       "      <td>0</td>\n",
       "      <td>0</td>\n",
       "      <td>北京今天，泛起秋意。</td>\n",
       "      <td>2012-09-03 00:07:36</td>\n",
       "      <td>0</td>\n",
       "      <td>uVGJLC4S5</td>\n",
       "      <td>0</td>\n",
       "    </tr>\n",
       "    <tr>\n",
       "      <th>4</th>\n",
       "      <td>0</td>\n",
       "      <td>2</td>\n",
       "      <td>@_@</td>\n",
       "      <td>2012-09-03 02:09:32</td>\n",
       "      <td>0</td>\n",
       "      <td>uATZPTH53</td>\n",
       "      <td>0</td>\n",
       "    </tr>\n",
       "  </tbody>\n",
       "</table>\n",
       "</div>"
      ],
      "text/plain": [
       "   hashtag_count  mention_count  \\\n",
       "0              0              0   \n",
       "1              0              1   \n",
       "2              0              0   \n",
       "3              0              0   \n",
       "4              0              2   \n",
       "\n",
       "                                                text                 time  \\\n",
       "0                                冷言冷语。。。继续。。。这样很好。。。  2012-09-03 00:03:19   \n",
       "1  傻子 过去就过去了 越想只会让自己 越来越TM看不起自己 恨自己不是吗？有什么了不起的 人不...  2012-09-03 00:04:12   \n",
       "2  闲来无事，想破人QQ空间密码，于是点击了一个美女的空间，提问：“请问男生最喜欢什么花！”我暗...  2012-09-03 00:02:10   \n",
       "3                                         北京今天，泛起秋意。  2012-09-03 00:07:36   \n",
       "4                                                @_@  2012-09-03 02:09:32   \n",
       "\n",
       "   url_count     userid  is_oversea  \n",
       "0          0  uWWBCGJE4           0  \n",
       "1          0  u1O52TEBM           1  \n",
       "2          0  u0AGHHPXK           0  \n",
       "3          0  uVGJLC4S5           0  \n",
       "4          0  uATZPTH53           0  "
      ]
     },
     "execution_count": 5,
     "metadata": {},
     "output_type": "execute_result"
    }
   ],
   "source": [
    "is_oversea = []\n",
    "for index, row in df.iterrows():\n",
    "    if row['userid'] in oversea_user_set:\n",
    "        is_oversea.append(1)\n",
    "    else:\n",
    "        is_oversea.append(0)\n",
    "df['is_oversea'] = is_oversea\n",
    "print len(df)\n",
    "df.head()"
   ]
  },
  {
   "cell_type": "code",
   "execution_count": null,
   "metadata": {
    "collapsed": true
   },
   "outputs": [],
   "source": [
    "#df.save_cvs\n",
    "df.to_csv('all_normal', encoding='utf-8', index=False)\n",
    "#df10 = pd.read_csv('alldata')"
   ]
  },
  {
   "cell_type": "markdown",
   "metadata": {},
   "source": [
    "# Check oversea users among all users"
   ]
  },
  {
   "cell_type": "markdown",
   "metadata": {},
   "source": [
    "## User as the unit analysis (Aggregate data based on the same user id) "
   ]
  },
  {
   "cell_type": "code",
   "execution_count": 17,
   "metadata": {
    "collapsed": true
   },
   "outputs": [],
   "source": [
    "df_user = pd.DataFrame()\n",
    "df_user['weibo_count'] = df.groupby(['userid']).size()\n",
    "df_user['url_mean'] = df.groupby(['userid'])['url_count'].mean()\n",
    "df_user['mention_mean'] = df.groupby(['userid'])['mention_count'].mean()\n",
    "df_user['hashtag_mean'] = df.groupby(['userid'])['hashtag_count'].mean()"
   ]
  },
  {
   "cell_type": "code",
   "execution_count": 20,
   "metadata": {
    "collapsed": false
   },
   "outputs": [
    {
     "name": "stdout",
     "output_type": "stream",
     "text": [
      "84560\n",
      "           weibo_count  url_mean  mention_mean  hashtag_mean\n",
      "userid                                                      \n",
      "u02HI3WUO           90  0.000000      0.000000      0.000000\n",
      "u02HIC5JL         1350  0.055556      1.444444      0.044444\n",
      "u02HICM0L          390  0.076923      1.346154      0.000000\n",
      "u02HIEXCF            2  0.000000      2.500000      0.500000\n",
      "u02HIFZWV          135  0.000000      2.333333      0.000000\n",
      "      userid  weibo_count  url_mean  mention_mean  hashtag_mean\n",
      "0  u02HI3WUO           90  0.000000      0.000000      0.000000\n",
      "1  u02HIC5JL         1350  0.055556      1.444444      0.044444\n",
      "2  u02HICM0L          390  0.076923      1.346154      0.000000\n",
      "3  u02HIEXCF            2  0.000000      2.500000      0.500000\n",
      "4  u02HIFZWV          135  0.000000      2.333333      0.000000\n"
     ]
    }
   ],
   "source": [
    "print len(df_user)\n",
    "print df_user.head()\n",
    "df_user = df_user.reset_index()\n",
    "print df_user.head()"
   ]
  },
  {
   "cell_type": "code",
   "execution_count": 21,
   "metadata": {
    "collapsed": false
   },
   "outputs": [
    {
     "name": "stdout",
     "output_type": "stream",
     "text": [
      "84560\n",
      "[0, 0, 0, 0, 0, 0, 0, 0, 0, 0]\n"
     ]
    }
   ],
   "source": [
    "is_oversea = []\n",
    "for index, row in df_user.iterrows():\n",
    "    if row['userid'] in oversea_user_set:\n",
    "        is_oversea.append(1)\n",
    "    else:\n",
    "        is_oversea.append(0)\n",
    "print len(is_oversea)\n",
    "print is_oversea[:10]    "
   ]
  },
  {
   "cell_type": "code",
   "execution_count": 24,
   "metadata": {
    "collapsed": false
   },
   "outputs": [
    {
     "data": {
      "text/html": [
       "<div>\n",
       "<table border=\"1\" class=\"dataframe\">\n",
       "  <thead>\n",
       "    <tr style=\"text-align: right;\">\n",
       "      <th></th>\n",
       "      <th>userid</th>\n",
       "      <th>weibo_count</th>\n",
       "      <th>url_mean</th>\n",
       "      <th>mention_mean</th>\n",
       "      <th>hashtag_mean</th>\n",
       "      <th>is_oversea</th>\n",
       "    </tr>\n",
       "  </thead>\n",
       "  <tbody>\n",
       "    <tr>\n",
       "      <th>0</th>\n",
       "      <td>u02HI3WUO</td>\n",
       "      <td>90</td>\n",
       "      <td>0.000000</td>\n",
       "      <td>0.000000</td>\n",
       "      <td>0.000000</td>\n",
       "      <td>0</td>\n",
       "    </tr>\n",
       "    <tr>\n",
       "      <th>1</th>\n",
       "      <td>u02HIC5JL</td>\n",
       "      <td>1350</td>\n",
       "      <td>0.055556</td>\n",
       "      <td>1.444444</td>\n",
       "      <td>0.044444</td>\n",
       "      <td>0</td>\n",
       "    </tr>\n",
       "    <tr>\n",
       "      <th>2</th>\n",
       "      <td>u02HICM0L</td>\n",
       "      <td>390</td>\n",
       "      <td>0.076923</td>\n",
       "      <td>1.346154</td>\n",
       "      <td>0.000000</td>\n",
       "      <td>0</td>\n",
       "    </tr>\n",
       "    <tr>\n",
       "      <th>3</th>\n",
       "      <td>u02HIEXCF</td>\n",
       "      <td>2</td>\n",
       "      <td>0.000000</td>\n",
       "      <td>2.500000</td>\n",
       "      <td>0.500000</td>\n",
       "      <td>0</td>\n",
       "    </tr>\n",
       "    <tr>\n",
       "      <th>4</th>\n",
       "      <td>u02HIFZWV</td>\n",
       "      <td>135</td>\n",
       "      <td>0.000000</td>\n",
       "      <td>2.333333</td>\n",
       "      <td>0.000000</td>\n",
       "      <td>0</td>\n",
       "    </tr>\n",
       "  </tbody>\n",
       "</table>\n",
       "</div>"
      ],
      "text/plain": [
       "      userid  weibo_count  url_mean  mention_mean  hashtag_mean  is_oversea\n",
       "0  u02HI3WUO           90  0.000000      0.000000      0.000000           0\n",
       "1  u02HIC5JL         1350  0.055556      1.444444      0.044444           0\n",
       "2  u02HICM0L          390  0.076923      1.346154      0.000000           0\n",
       "3  u02HIEXCF            2  0.000000      2.500000      0.500000           0\n",
       "4  u02HIFZWV          135  0.000000      2.333333      0.000000           0"
      ]
     },
     "execution_count": 24,
     "metadata": {},
     "output_type": "execute_result"
    }
   ],
   "source": [
    "df_user['is_oversea'] = is_oversea\n",
    "df_user.head()"
   ]
  },
  {
   "cell_type": "code",
   "execution_count": 27,
   "metadata": {
    "collapsed": false
   },
   "outputs": [
    {
     "name": "stdout",
     "output_type": "stream",
     "text": [
      "Total number of oversea users in this weekly weibo data is 15447\n",
      "After filtering spammers, the number is 9466\n"
     ]
    }
   ],
   "source": [
    "oversea_df = df_user[df_user['is_oversea'] == 1]\n",
    "print 'Total number of oversea users in this weekly weibo data is 15447'\n",
    "print 'After filtering spammers, the number is', len(oversea_df)  "
   ]
  },
  {
   "cell_type": "code",
   "execution_count": null,
   "metadata": {
    "collapsed": true
   },
   "outputs": [],
   "source": []
  }
 ],
 "metadata": {
  "kernelspec": {
   "display_name": "Python 2",
   "language": "python",
   "name": "python2"
  },
  "language_info": {
   "codemirror_mode": {
    "name": "ipython",
    "version": 2
   },
   "file_extension": ".py",
   "mimetype": "text/x-python",
   "name": "python",
   "nbconvert_exporter": "python",
   "pygments_lexer": "ipython2",
   "version": "2.7.11"
  }
 },
 "nbformat": 4,
 "nbformat_minor": 0
}
