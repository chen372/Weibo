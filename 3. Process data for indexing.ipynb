{
 "cells": [
  {
   "cell_type": "markdown",
   "metadata": {},
   "source": [
    "# Purpose\n",
    "After filtering out the spammers, we can now work on the weibo data. The goal of this purpose is to preprocess the data for indexing."
   ]
  },
  {
   "cell_type": "markdown",
   "metadata": {},
   "source": [
    "We first store all messages that contain \"#\" to a list since hashtags in weibo is denoted as sth like #机器学习#. \n",
    "From that list, we extract hashtag(s) from each message and save it to a list. We record the message id and its corresponding hashtag in the list called hashtags. "
   ]
  },
  {
   "cell_type": "code",
   "execution_count": 2,
   "metadata": {
    "collapsed": false
   },
   "outputs": [
    {
     "name": "stderr",
     "output_type": "stream",
     "text": [
      "C:\\Anaconda2\\envs\\gl-env\\lib\\site-packages\\gensim\\utils.py:855: UserWarning: detected Windows; aliasing chunkize to chunkize_serial\n",
      "  warnings.warn(\"detected Windows; aliasing chunkize to chunkize_serial\")\n"
     ]
    }
   ],
   "source": [
    "import csv\n",
    "import pandas as pd\n",
    "import numpy as np\n",
    "import gensim # word2vec package\n",
    "import jieba  # for Chinese text segementation"
   ]
  },
  {
   "cell_type": "code",
   "execution_count": 2,
   "metadata": {
    "collapsed": false
   },
   "outputs": [
    {
     "name": "stdout",
     "output_type": "stream",
     "text": [
      "892539\n"
     ]
    },
    {
     "data": {
      "text/html": [
       "<div>\n",
       "<table border=\"1\" class=\"dataframe\">\n",
       "  <thead>\n",
       "    <tr style=\"text-align: right;\">\n",
       "      <th></th>\n",
       "      <th>hashtag_count</th>\n",
       "      <th>mention_count</th>\n",
       "      <th>text</th>\n",
       "      <th>time</th>\n",
       "      <th>url_count</th>\n",
       "      <th>userid</th>\n",
       "    </tr>\n",
       "  </thead>\n",
       "  <tbody>\n",
       "    <tr>\n",
       "      <th>0</th>\n",
       "      <td>0</td>\n",
       "      <td>0</td>\n",
       "      <td>冷言冷语。。。继续。。。这样很好。。。</td>\n",
       "      <td>2012-09-03 00:03:19</td>\n",
       "      <td>0</td>\n",
       "      <td>uWWBCGJE4</td>\n",
       "    </tr>\n",
       "    <tr>\n",
       "      <th>1</th>\n",
       "      <td>0</td>\n",
       "      <td>1</td>\n",
       "      <td>傻子 过去就过去了 越想只会让自己 越来越TM看不起自己 恨自己不是吗？有什么了不起的 人不...</td>\n",
       "      <td>2012-09-03 00:04:12</td>\n",
       "      <td>0</td>\n",
       "      <td>u1O52TEBM</td>\n",
       "    </tr>\n",
       "    <tr>\n",
       "      <th>2</th>\n",
       "      <td>0</td>\n",
       "      <td>0</td>\n",
       "      <td>闲来无事，想破人QQ空间密码，于是点击了一个美女的空间，提问：“请问男生最喜欢什么花！”我暗...</td>\n",
       "      <td>2012-09-03 00:02:10</td>\n",
       "      <td>0</td>\n",
       "      <td>u0AGHHPXK</td>\n",
       "    </tr>\n",
       "    <tr>\n",
       "      <th>3</th>\n",
       "      <td>0</td>\n",
       "      <td>0</td>\n",
       "      <td>北京今天，泛起秋意。</td>\n",
       "      <td>2012-09-03 00:07:36</td>\n",
       "      <td>0</td>\n",
       "      <td>uVGJLC4S5</td>\n",
       "    </tr>\n",
       "    <tr>\n",
       "      <th>4</th>\n",
       "      <td>0</td>\n",
       "      <td>2</td>\n",
       "      <td>@_@</td>\n",
       "      <td>2012-09-03 02:09:32</td>\n",
       "      <td>0</td>\n",
       "      <td>uATZPTH53</td>\n",
       "    </tr>\n",
       "  </tbody>\n",
       "</table>\n",
       "</div>"
      ],
      "text/plain": [
       "   hashtag_count  mention_count  \\\n",
       "0              0              0   \n",
       "1              0              1   \n",
       "2              0              0   \n",
       "3              0              0   \n",
       "4              0              2   \n",
       "\n",
       "                                                text                 time  \\\n",
       "0                                冷言冷语。。。继续。。。这样很好。。。  2012-09-03 00:03:19   \n",
       "1  傻子 过去就过去了 越想只会让自己 越来越TM看不起自己 恨自己不是吗？有什么了不起的 人不...  2012-09-03 00:04:12   \n",
       "2  闲来无事，想破人QQ空间密码，于是点击了一个美女的空间，提问：“请问男生最喜欢什么花！”我暗...  2012-09-03 00:02:10   \n",
       "3                                         北京今天，泛起秋意。  2012-09-03 00:07:36   \n",
       "4                                                @_@  2012-09-03 02:09:32   \n",
       "\n",
       "   url_count     userid  \n",
       "0          0  uWWBCGJE4  \n",
       "1          0  u1O52TEBM  \n",
       "2          0  u0AGHHPXK  \n",
       "3          0  uVGJLC4S5  \n",
       "4          0  uATZPTH53  "
      ]
     },
     "execution_count": 2,
     "metadata": {},
     "output_type": "execute_result"
    }
   ],
   "source": [
    "df = pd.read_csv('normal_all2')\n",
    "print len(df)\n",
    "df.head()"
   ]
  },
  {
   "cell_type": "code",
   "execution_count": 3,
   "metadata": {
    "collapsed": false
   },
   "outputs": [],
   "source": [
    "df2 = df.drop('hashtag_count', axis = 1)\n",
    "df2 = df2.drop('mention_count', axis = 1)\n",
    "df2 = df2.drop('url_count', axis = 1)"
   ]
  },
  {
   "cell_type": "code",
   "execution_count": 11,
   "metadata": {
    "collapsed": false
   },
   "outputs": [
    {
     "data": {
      "text/html": [
       "<div>\n",
       "<table border=\"1\" class=\"dataframe\">\n",
       "  <thead>\n",
       "    <tr style=\"text-align: right;\">\n",
       "      <th></th>\n",
       "      <th>text</th>\n",
       "      <th>time</th>\n",
       "      <th>userid</th>\n",
       "      <th>drop</th>\n",
       "    </tr>\n",
       "  </thead>\n",
       "  <tbody>\n",
       "    <tr>\n",
       "      <th>0</th>\n",
       "      <td>冷言冷语。。。继续。。。这样很好。。。</td>\n",
       "      <td>2012-09-03 00:03:19</td>\n",
       "      <td>uWWBCGJE4</td>\n",
       "      <td>1</td>\n",
       "    </tr>\n",
       "    <tr>\n",
       "      <th>1</th>\n",
       "      <td>傻子 过去就过去了 越想只会让自己 越来越TM看不起自己 恨自己不是吗？有什么了不起的 人不...</td>\n",
       "      <td>2012-09-03 00:04:12</td>\n",
       "      <td>u1O52TEBM</td>\n",
       "      <td>1</td>\n",
       "    </tr>\n",
       "    <tr>\n",
       "      <th>2</th>\n",
       "      <td>闲来无事，想破人QQ空间密码，于是点击了一个美女的空间，提问：“请问男生最喜欢什么花！”我暗...</td>\n",
       "      <td>2012-09-03 00:02:10</td>\n",
       "      <td>u0AGHHPXK</td>\n",
       "      <td>1</td>\n",
       "    </tr>\n",
       "    <tr>\n",
       "      <th>3</th>\n",
       "      <td>北京今天，泛起秋意。</td>\n",
       "      <td>2012-09-03 00:07:36</td>\n",
       "      <td>uVGJLC4S5</td>\n",
       "      <td>1</td>\n",
       "    </tr>\n",
       "    <tr>\n",
       "      <th>4</th>\n",
       "      <td>@_@</td>\n",
       "      <td>2012-09-03 02:09:32</td>\n",
       "      <td>uATZPTH53</td>\n",
       "      <td>1</td>\n",
       "    </tr>\n",
       "  </tbody>\n",
       "</table>\n",
       "</div>"
      ],
      "text/plain": [
       "                                                text                 time  \\\n",
       "0                                冷言冷语。。。继续。。。这样很好。。。  2012-09-03 00:03:19   \n",
       "1  傻子 过去就过去了 越想只会让自己 越来越TM看不起自己 恨自己不是吗？有什么了不起的 人不...  2012-09-03 00:04:12   \n",
       "2  闲来无事，想破人QQ空间密码，于是点击了一个美女的空间，提问：“请问男生最喜欢什么花！”我暗...  2012-09-03 00:02:10   \n",
       "3                                         北京今天，泛起秋意。  2012-09-03 00:07:36   \n",
       "4                                                @_@  2012-09-03 02:09:32   \n",
       "\n",
       "      userid  drop  \n",
       "0  uWWBCGJE4     1  \n",
       "1  u1O52TEBM     1  \n",
       "2  u0AGHHPXK     1  \n",
       "3  uVGJLC4S5     1  \n",
       "4  uATZPTH53     1  "
      ]
     },
     "execution_count": 11,
     "metadata": {},
     "output_type": "execute_result"
    }
   ],
   "source": [
    "\"\"\"\"\"\n",
    "drop = []\n",
    "for index, row in df2.iterrows():   \n",
    "    try:   #handle exception when text is null\n",
    "        if '#' in row['text']:\n",
    "            drop.append(0)\n",
    "        else: \n",
    "            drop.append(1)\n",
    "    except:\n",
    "        drop.append(2)\n",
    "df2['drop'] = drop\n",
    "df2.head()"
   ]
  },
  {
   "cell_type": "code",
   "execution_count": 12,
   "metadata": {
    "collapsed": false
   },
   "outputs": [
    {
     "data": {
      "text/html": [
       "<div>\n",
       "<table border=\"1\" class=\"dataframe\">\n",
       "  <thead>\n",
       "    <tr style=\"text-align: right;\">\n",
       "      <th></th>\n",
       "      <th>text</th>\n",
       "      <th>time</th>\n",
       "      <th>userid</th>\n",
       "    </tr>\n",
       "  </thead>\n",
       "  <tbody>\n",
       "    <tr>\n",
       "      <th>40</th>\n",
       "      <td>@uDGUXVVZY： 【七絕 晚霞】#平水韻#晚霞雲彩滿天紅，曠野無垠陣陣風，似海波濤輕湧...</td>\n",
       "      <td>2012-09-03 00:21:28</td>\n",
       "      <td>uK3RUJX1C</td>\n",
       "    </tr>\n",
       "    <tr>\n",
       "      <th>85</th>\n",
       "      <td>#有粉有态度 健康粉女郎#我刚刚在 @ukn： 报名了#万名抹茶粉女郎全国大招募活动#，快来...</td>\n",
       "      <td>2012-09-03 14:40:48</td>\n",
       "      <td>uTZ5HLFF5</td>\n",
       "    </tr>\n",
       "    <tr>\n",
       "      <th>110</th>\n",
       "      <td>#爱情公寓#爱是当你爱上一个人，会舍弃自己的自由，换取他的自由。爱上当你爱上一个人,会改变自...</td>\n",
       "      <td>2012-09-03 00:18:37</td>\n",
       "      <td>uZ32PKRL0</td>\n",
       "    </tr>\n",
       "    <tr>\n",
       "      <th>125</th>\n",
       "      <td>#静观NewsDesign# 另外一部分原因，在于设计师对于图片中信息的理解欠火候，野蛮的处...</td>\n",
       "      <td>2012-09-03 00:32:18</td>\n",
       "      <td>u351ZNLSP</td>\n",
       "    </tr>\n",
       "    <tr>\n",
       "      <th>126</th>\n",
       "      <td>#静观NewsDesign# 图片和图形的结合，一直是这几年编辑们不敢触碰的领域，其主要障碍...</td>\n",
       "      <td>2012-09-03 00:29:05</td>\n",
       "      <td>u351ZNLSP</td>\n",
       "    </tr>\n",
       "  </tbody>\n",
       "</table>\n",
       "</div>"
      ],
      "text/plain": [
       "                                                  text                 time  \\\n",
       "40   @uDGUXVVZY： 【七絕 晚霞】#平水韻#晚霞雲彩滿天紅，曠野無垠陣陣風，似海波濤輕湧...  2012-09-03 00:21:28   \n",
       "85   #有粉有态度 健康粉女郎#我刚刚在 @ukn： 报名了#万名抹茶粉女郎全国大招募活动#，快来...  2012-09-03 14:40:48   \n",
       "110  #爱情公寓#爱是当你爱上一个人，会舍弃自己的自由，换取他的自由。爱上当你爱上一个人,会改变自...  2012-09-03 00:18:37   \n",
       "125  #静观NewsDesign# 另外一部分原因，在于设计师对于图片中信息的理解欠火候，野蛮的处...  2012-09-03 00:32:18   \n",
       "126  #静观NewsDesign# 图片和图形的结合，一直是这几年编辑们不敢触碰的领域，其主要障碍...  2012-09-03 00:29:05   \n",
       "\n",
       "        userid  \n",
       "40   uK3RUJX1C  \n",
       "85   uTZ5HLFF5  \n",
       "110  uZ32PKRL0  \n",
       "125  u351ZNLSP  \n",
       "126  u351ZNLSP  "
      ]
     },
     "execution_count": 12,
     "metadata": {},
     "output_type": "execute_result"
    }
   ],
   "source": [
    "\"\"\"\"\"\n",
    "df2 = df2[df2['drop'] == 0]\n",
    "df2 = df2.drop('drop', axis = 1)\n",
    "df2.head()"
   ]
  },
  {
   "cell_type": "code",
   "execution_count": 4,
   "metadata": {
    "collapsed": false
   },
   "outputs": [
    {
     "name": "stdout",
     "output_type": "stream",
     "text": [
      "892539\n"
     ]
    },
    {
     "data": {
      "text/html": [
       "<div>\n",
       "<table border=\"1\" class=\"dataframe\">\n",
       "  <thead>\n",
       "    <tr style=\"text-align: right;\">\n",
       "      <th></th>\n",
       "      <th>text</th>\n",
       "      <th>time</th>\n",
       "      <th>userid</th>\n",
       "    </tr>\n",
       "  </thead>\n",
       "  <tbody>\n",
       "    <tr>\n",
       "      <th>0</th>\n",
       "      <td>冷言冷语。。。继续。。。这样很好。。。</td>\n",
       "      <td>2012-09-03 00:03:19</td>\n",
       "      <td>uWWBCGJE4</td>\n",
       "    </tr>\n",
       "    <tr>\n",
       "      <th>1</th>\n",
       "      <td>傻子 过去就过去了 越想只会让自己 越来越TM看不起自己 恨自己不是吗？有什么了不起的 人不...</td>\n",
       "      <td>2012-09-03 00:04:12</td>\n",
       "      <td>u1O52TEBM</td>\n",
       "    </tr>\n",
       "    <tr>\n",
       "      <th>2</th>\n",
       "      <td>闲来无事，想破人QQ空间密码，于是点击了一个美女的空间，提问：“请问男生最喜欢什么花！”我暗...</td>\n",
       "      <td>2012-09-03 00:02:10</td>\n",
       "      <td>u0AGHHPXK</td>\n",
       "    </tr>\n",
       "    <tr>\n",
       "      <th>3</th>\n",
       "      <td>北京今天，泛起秋意。</td>\n",
       "      <td>2012-09-03 00:07:36</td>\n",
       "      <td>uVGJLC4S5</td>\n",
       "    </tr>\n",
       "    <tr>\n",
       "      <th>4</th>\n",
       "      <td>@_@</td>\n",
       "      <td>2012-09-03 02:09:32</td>\n",
       "      <td>uATZPTH53</td>\n",
       "    </tr>\n",
       "  </tbody>\n",
       "</table>\n",
       "</div>"
      ],
      "text/plain": [
       "                                                text                 time  \\\n",
       "0                                冷言冷语。。。继续。。。这样很好。。。  2012-09-03 00:03:19   \n",
       "1  傻子 过去就过去了 越想只会让自己 越来越TM看不起自己 恨自己不是吗？有什么了不起的 人不...  2012-09-03 00:04:12   \n",
       "2  闲来无事，想破人QQ空间密码，于是点击了一个美女的空间，提问：“请问男生最喜欢什么花！”我暗...  2012-09-03 00:02:10   \n",
       "3                                         北京今天，泛起秋意。  2012-09-03 00:07:36   \n",
       "4                                                @_@  2012-09-03 02:09:32   \n",
       "\n",
       "      userid  \n",
       "0  uWWBCGJE4  \n",
       "1  u1O52TEBM  \n",
       "2  u0AGHHPXK  \n",
       "3  uVGJLC4S5  \n",
       "4  uATZPTH53  "
      ]
     },
     "execution_count": 4,
     "metadata": {},
     "output_type": "execute_result"
    }
   ],
   "source": [
    "print len(df2)\n",
    "df2.head()"
   ]
  },
  {
   "cell_type": "markdown",
   "metadata": {},
   "source": [
    "## Extract hashtag"
   ]
  },
  {
   "cell_type": "code",
   "execution_count": 7,
   "metadata": {
    "collapsed": false
   },
   "outputs": [],
   "source": [
    "hashtags = []\n",
    "for index, row in df2.iterrows():\n",
    "    text = str(row['text'])   \n",
    "    if text.find('#') < 0:  # no hashtag found\n",
    "        hashtags.append('')\n",
    "    else:   # message contains '#'\n",
    "        hashtags_per = []  \n",
    "        count = 0\n",
    "        while count < 10:\n",
    "            start = text.find('#') \n",
    "            if text[start+1:].find('#') < 0:\n",
    "                break  \n",
    "            else:\n",
    "                end = text.find('#', start+1)\n",
    "                hashtag = text[start+1: end]    #   #idea # is not a hashtag; #idea# is\n",
    "                if ' ' not in hashtag:\n",
    "                    hashtags_per.append(hashtag)\n",
    "                text = text[end+1:]\n",
    "                count += 1\n",
    "                if text.find('#')<0:\n",
    "                    break\n",
    "        hashtags.append(hashtags_per)"
   ]
  },
  {
   "cell_type": "code",
   "execution_count": 39,
   "metadata": {
    "collapsed": false
   },
   "outputs": [
    {
     "name": "stdout",
     "output_type": "stream",
     "text": [
      "892539\n",
      "23353\n",
      "李成种生日快乐 2841\n"
     ]
    }
   ],
   "source": [
    "print len(hashtags)\n",
    "hs = []\n",
    "count = 0\n",
    "for h in hashtags:\n",
    "    if h != '':\n",
    "        hs.append((h, count))\n",
    "    count += 1\n",
    "print len(hs)\n",
    "print hs[43][0][0], hs[43][1]"
   ]
  },
  {
   "cell_type": "code",
   "execution_count": 12,
   "metadata": {
    "collapsed": true
   },
   "outputs": [],
   "source": [
    "df2['hashtag'] = hashtags"
   ]
  },
  {
   "cell_type": "code",
   "execution_count": 18,
   "metadata": {
    "collapsed": false
   },
   "outputs": [
    {
     "data": {
      "text/html": [
       "<div>\n",
       "<table border=\"1\" class=\"dataframe\">\n",
       "  <thead>\n",
       "    <tr style=\"text-align: right;\">\n",
       "      <th></th>\n",
       "      <th>text</th>\n",
       "      <th>time</th>\n",
       "      <th>userid</th>\n",
       "      <th>hashtag</th>\n",
       "    </tr>\n",
       "  </thead>\n",
       "  <tbody>\n",
       "    <tr>\n",
       "      <th>40</th>\n",
       "      <td>@uDGUXVVZY： 【七絕 晚霞】#平水韻#晚霞雲彩滿天紅，曠野無垠陣陣風，似海波濤輕湧...</td>\n",
       "      <td>2012-09-03 00:21:28</td>\n",
       "      <td>uK3RUJX1C</td>\n",
       "      <td>[平水韻]</td>\n",
       "    </tr>\n",
       "    <tr>\n",
       "      <th>41</th>\n",
       "      <td>@风格豹：【豹起阑栅意】曾问长领似蝤蛴，朦胧细腰隔汤霓。冰笋不调绿云乱，长裙似水自高低。玉柔...</td>\n",
       "      <td>2012-09-03 00:19:49</td>\n",
       "      <td>uK3RUJX1C</td>\n",
       "      <td></td>\n",
       "    </tr>\n",
       "    <tr>\n",
       "      <th>42</th>\n",
       "      <td>Jennifer1962：紫色的云河，飘浮着，梦一样的光绚，翩跹在，我黑色的眼眸里。一道异彩...</td>\n",
       "      <td>2012-09-03 00:09:07</td>\n",
       "      <td>uK3RUJX1C</td>\n",
       "      <td></td>\n",
       "    </tr>\n",
       "    <tr>\n",
       "      <th>43</th>\n",
       "      <td>謝謝鼓勵！感恩！ //@uDGUAHFWB： 过去不重要，重要的是把握现在和未来[鼓掌] /...</td>\n",
       "      <td>2012-09-03 00:27:04</td>\n",
       "      <td>uBIBS02HN</td>\n",
       "      <td></td>\n",
       "    </tr>\n",
       "    <tr>\n",
       "      <th>44</th>\n",
       "      <td>[给力] //@u3FTLGANE： 笑哥威武[帅]//@uBIBS02HN： [给力] /...</td>\n",
       "      <td>2012-09-03 00:14:39</td>\n",
       "      <td>uBIBS02HN</td>\n",
       "      <td></td>\n",
       "    </tr>\n",
       "    <tr>\n",
       "      <th>45</th>\n",
       "      <td>🙏好樣的 //@uW0E3EZEB： 我捐助3个孩子！！！让爱延续……支持公益，传递爱心</td>\n",
       "      <td>2012-09-03 00:14:03</td>\n",
       "      <td>uBIBS02HN</td>\n",
       "      <td></td>\n",
       "    </tr>\n",
       "    <tr>\n",
       "      <th>46</th>\n",
       "      <td>[给力] //@uHJXP0DXY： 笑哥！苍劲有力的嗓音无人能替代[拳头] //@uBIB...</td>\n",
       "      <td>2012-09-03 00:12:03</td>\n",
       "      <td>uBIBS02HN</td>\n",
       "      <td></td>\n",
       "    </tr>\n",
       "    <tr>\n",
       "      <th>47</th>\n",
       "      <td>回复@uRSRGHTLL： 謝謝 感恩 //@uRSRGHTLL： @uBIBS02HN： ...</td>\n",
       "      <td>2012-09-03 00:11:38</td>\n",
       "      <td>uBIBS02HN</td>\n",
       "      <td></td>\n",
       "    </tr>\n",
       "    <tr>\n",
       "      <th>48</th>\n",
       "      <td>會努力的 謝謝 //@uHRVTXGRH： [围观] 希望更多的好作品出来！//@uBIBS...</td>\n",
       "      <td>2012-09-03 00:08:24</td>\n",
       "      <td>uBIBS02HN</td>\n",
       "      <td></td>\n",
       "    </tr>\n",
       "    <tr>\n",
       "      <th>49</th>\n",
       "      <td>謝謝 感動</td>\n",
       "      <td>2012-09-03 00:06:19</td>\n",
       "      <td>uBIBS02HN</td>\n",
       "      <td></td>\n",
       "    </tr>\n",
       "  </tbody>\n",
       "</table>\n",
       "</div>"
      ],
      "text/plain": [
       "                                                 text                 time  \\\n",
       "40  @uDGUXVVZY： 【七絕 晚霞】#平水韻#晚霞雲彩滿天紅，曠野無垠陣陣風，似海波濤輕湧...  2012-09-03 00:21:28   \n",
       "41  @风格豹：【豹起阑栅意】曾问长领似蝤蛴，朦胧细腰隔汤霓。冰笋不调绿云乱，长裙似水自高低。玉柔...  2012-09-03 00:19:49   \n",
       "42  Jennifer1962：紫色的云河，飘浮着，梦一样的光绚，翩跹在，我黑色的眼眸里。一道异彩...  2012-09-03 00:09:07   \n",
       "43  謝謝鼓勵！感恩！ //@uDGUAHFWB： 过去不重要，重要的是把握现在和未来[鼓掌] /...  2012-09-03 00:27:04   \n",
       "44  [给力] //@u3FTLGANE： 笑哥威武[帅]//@uBIBS02HN： [给力] /...  2012-09-03 00:14:39   \n",
       "45      🙏好樣的 //@uW0E3EZEB： 我捐助3个孩子！！！让爱延续……支持公益，传递爱心  2012-09-03 00:14:03   \n",
       "46  [给力] //@uHJXP0DXY： 笑哥！苍劲有力的嗓音无人能替代[拳头] //@uBIB...  2012-09-03 00:12:03   \n",
       "47  回复@uRSRGHTLL： 謝謝 感恩 //@uRSRGHTLL： @uBIBS02HN： ...  2012-09-03 00:11:38   \n",
       "48  會努力的 謝謝 //@uHRVTXGRH： [围观] 希望更多的好作品出来！//@uBIBS...  2012-09-03 00:08:24   \n",
       "49                                              謝謝 感動  2012-09-03 00:06:19   \n",
       "\n",
       "       userid hashtag  \n",
       "40  uK3RUJX1C   [平水韻]  \n",
       "41  uK3RUJX1C          \n",
       "42  uK3RUJX1C          \n",
       "43  uBIBS02HN          \n",
       "44  uBIBS02HN          \n",
       "45  uBIBS02HN          \n",
       "46  uBIBS02HN          \n",
       "47  uBIBS02HN          \n",
       "48  uBIBS02HN          \n",
       "49  uBIBS02HN          "
      ]
     },
     "execution_count": 18,
     "metadata": {},
     "output_type": "execute_result"
    }
   ],
   "source": [
    "df2[40:50]"
   ]
  },
  {
   "cell_type": "markdown",
   "metadata": {},
   "source": [
    "# Chinese text segementation"
   ]
  },
  {
   "cell_type": "code",
   "execution_count": 25,
   "metadata": {
    "collapsed": false
   },
   "outputs": [],
   "source": [
    "#remove hashtag from each message\n",
    "text_rem_hash = []\n",
    "for index, row in df2.iterrows():\n",
    "    text = row['text']\n",
    "    hashtag = row['hashtag']\n",
    "    for h in hashtag:\n",
    "        text = text.replace(h, '')\n",
    "    text_rem_hash.append(text)"
   ]
  },
  {
   "cell_type": "code",
   "execution_count": 26,
   "metadata": {
    "collapsed": false
   },
   "outputs": [
    {
     "name": "stdout",
     "output_type": "stream",
     "text": [
      "892539\n",
      "## 另外一部分原因，在于设计师对于图片中信息的理解欠火候，野蛮的处理方式对于图片的伤害会极大。\n"
     ]
    }
   ],
   "source": [
    "print len(text_rem_hash)\n",
    "print text_rem_hash[125]"
   ]
  },
  {
   "cell_type": "code",
   "execution_count": 28,
   "metadata": {
    "collapsed": false
   },
   "outputs": [],
   "source": [
    "# remove @mention\n",
    "text_rem_at = []\n",
    "for text in text_rem_hash:\n",
    "    text = str(text)\n",
    "    count = 0\n",
    "    while count < 20:\n",
    "        if text.find('@') < 0:\n",
    "            break\n",
    "        else:\n",
    "            start = text.find('@')\n",
    "            if text.find('：', start+1) < 0: # @ is at the end of the message\n",
    "                text = text[:start]\n",
    "                break\n",
    "            else:\n",
    "                end = text.find('：', start+1)\n",
    "                text = text[:start]+text[end+3:]\n",
    "        count += 1    \n",
    "    text_rem_at.append(text)"
   ]
  },
  {
   "cell_type": "code",
   "execution_count": 30,
   "metadata": {
    "collapsed": false
   },
   "outputs": [
    {
     "name": "stdout",
     "output_type": "stream",
     "text": [
      "892539\n",
      "892539\n",
      "有点英倫feel很喜欢[花心]//@ukn：  ## ## 哇 ~~~~ //@uWWBBUYJV：  我这里还没到[泪]\n",
      "有点英倫feel很喜欢[花心]//  ## ## 哇 ~~~~ //  我这里还没到[泪]\n"
     ]
    }
   ],
   "source": [
    "print len(text_rem_hash)\n",
    "print len(text_rem_at)\n",
    "print text_rem_hash[2756]\n",
    "print text_rem_at[2756]"
   ]
  },
  {
   "cell_type": "code",
   "execution_count": 31,
   "metadata": {
    "collapsed": true
   },
   "outputs": [],
   "source": [
    "# remove url\n",
    "text_rem_url = []\n",
    "for text in text_rem_at:\n",
    "    text = str(text)\n",
    "    count = 0\n",
    "    while count < 10:\n",
    "        if text.find('http') < 0:\n",
    "            break  \n",
    "        else:\n",
    "            start = text.find('http')\n",
    "            if text.find(' ', start+1) < 0:  # url in the end\n",
    "                text = text[:start]\n",
    "            else:                            # url in the middle\n",
    "                end = text.find(' ')  \n",
    "                text = text[:start]+text[end+1:]\n",
    "                if text.find('http') < 0:\n",
    "                    break\n",
    "            count += 1\n",
    "    text_rem_url.append(text)"
   ]
  },
  {
   "cell_type": "code",
   "execution_count": 34,
   "metadata": {
    "collapsed": false
   },
   "outputs": [
    {
     "name": "stdout",
     "output_type": "stream",
     "text": [
      " ## “地址：http://t.cn/zWms4AF\n",
      " ## “地址：\n"
     ]
    }
   ],
   "source": [
    "print text_rem_at[2641]\n",
    "print text_rem_url[2641]"
   ]
  },
  {
   "cell_type": "code",
   "execution_count": 35,
   "metadata": {
    "collapsed": true
   },
   "outputs": [],
   "source": [
    "# remove punctuation\n",
    "punc = ['#', '，', '。', '！', '？', '：', '“', '”', '（', '）', '【', '】', '+', '、', '％', '.', ':', '(', ')', '[', ']', '《', '》', '', '；', '～', '＂']\n",
    "punc = punc+[',', '!', '?', '+', '=', '-', '~', '\"', '<', '>', '/', '^', ';', '//']\n",
    "text_rem_punc = []\n",
    "for text in text_rem_url:\n",
    "    text = text.replace(' ', '')\n",
    "    for c in punc:\n",
    "        if c in text:\n",
    "            text = text.replace(c, '')            \n",
    "    text_rem_punc.append(text)"
   ]
  },
  {
   "cell_type": "code",
   "execution_count": 36,
   "metadata": {
    "collapsed": false
   },
   "outputs": [
    {
     "name": "stdout",
     "output_type": "stream",
     "text": [
      " ## “地址：\n",
      "地址\n"
     ]
    }
   ],
   "source": [
    "print text_rem_url[2641]\n",
    "print text_rem_punc[2641]"
   ]
  },
  {
   "cell_type": "code",
   "execution_count": 37,
   "metadata": {
    "collapsed": false
   },
   "outputs": [
    {
     "data": {
      "text/html": [
       "<div>\n",
       "<table border=\"1\" class=\"dataframe\">\n",
       "  <thead>\n",
       "    <tr style=\"text-align: right;\">\n",
       "      <th></th>\n",
       "      <th>time</th>\n",
       "      <th>userid</th>\n",
       "      <th>hashtag</th>\n",
       "      <th>cleaned_text</th>\n",
       "    </tr>\n",
       "  </thead>\n",
       "  <tbody>\n",
       "    <tr>\n",
       "      <th>0</th>\n",
       "      <td>2012-09-03 00:03:19</td>\n",
       "      <td>uWWBCGJE4</td>\n",
       "      <td></td>\n",
       "      <td>冷言冷语继续这样很好</td>\n",
       "    </tr>\n",
       "    <tr>\n",
       "      <th>1</th>\n",
       "      <td>2012-09-03 00:04:12</td>\n",
       "      <td>u1O52TEBM</td>\n",
       "      <td></td>\n",
       "      <td>傻子过去就过去了越想只会让自己越来越TM看不起自己恨自己不是吗有什么了不起的人不都是在挫折中...</td>\n",
       "    </tr>\n",
       "    <tr>\n",
       "      <th>2</th>\n",
       "      <td>2012-09-03 00:02:10</td>\n",
       "      <td>u0AGHHPXK</td>\n",
       "      <td></td>\n",
       "      <td>闲来无事想破人QQ空间密码于是点击了一个美女的空间提问请问男生最喜欢什么花我暗香肯定是玫瑰因...</td>\n",
       "    </tr>\n",
       "    <tr>\n",
       "      <th>3</th>\n",
       "      <td>2012-09-03 00:07:36</td>\n",
       "      <td>uVGJLC4S5</td>\n",
       "      <td></td>\n",
       "      <td>北京今天泛起秋意</td>\n",
       "    </tr>\n",
       "    <tr>\n",
       "      <th>4</th>\n",
       "      <td>2012-09-03 02:09:32</td>\n",
       "      <td>uATZPTH53</td>\n",
       "      <td></td>\n",
       "      <td></td>\n",
       "    </tr>\n",
       "  </tbody>\n",
       "</table>\n",
       "</div>"
      ],
      "text/plain": [
       "                  time     userid hashtag  \\\n",
       "0  2012-09-03 00:03:19  uWWBCGJE4           \n",
       "1  2012-09-03 00:04:12  u1O52TEBM           \n",
       "2  2012-09-03 00:02:10  u0AGHHPXK           \n",
       "3  2012-09-03 00:07:36  uVGJLC4S5           \n",
       "4  2012-09-03 02:09:32  uATZPTH53           \n",
       "\n",
       "                                        cleaned_text  \n",
       "0                                         冷言冷语继续这样很好  \n",
       "1  傻子过去就过去了越想只会让自己越来越TM看不起自己恨自己不是吗有什么了不起的人不都是在挫折中...  \n",
       "2  闲来无事想破人QQ空间密码于是点击了一个美女的空间提问请问男生最喜欢什么花我暗香肯定是玫瑰因...  \n",
       "3                                           北京今天泛起秋意  \n",
       "4                                                     "
      ]
     },
     "execution_count": 37,
     "metadata": {},
     "output_type": "execute_result"
    }
   ],
   "source": [
    "df2['cleaned_text'] = text_rem_punc\n",
    "df3 = df2.drop('text', axis = 1)\n",
    "df3.head()"
   ]
  },
  {
   "cell_type": "markdown",
   "metadata": {},
   "source": [
    "# Save to file for later indexing"
   ]
  },
  {
   "cell_type": "code",
   "execution_count": 41,
   "metadata": {
    "collapsed": false
   },
   "outputs": [
    {
     "name": "stdout",
     "output_type": "stream",
     "text": [
      "892539\n",
      "李成种生日快乐 李成种生日快乐 \n"
     ]
    }
   ],
   "source": [
    "hashtags2 = []\n",
    "for hashtags_per in hashtags:\n",
    "    i = ''\n",
    "    for hashtag in hashtags_per:\n",
    "        i += hashtag+' '\n",
    "    hashtags2.append(i)\n",
    "\n",
    "print len(hashtags2)\n",
    "print hashtags2[2841]"
   ]
  },
  {
   "cell_type": "code",
   "execution_count": 42,
   "metadata": {
    "collapsed": false
   },
   "outputs": [
    {
     "data": {
      "text/html": [
       "<div>\n",
       "<table border=\"1\" class=\"dataframe\">\n",
       "  <thead>\n",
       "    <tr style=\"text-align: right;\">\n",
       "      <th></th>\n",
       "      <th>time</th>\n",
       "      <th>userid</th>\n",
       "      <th>hashtag</th>\n",
       "      <th>cleaned_text</th>\n",
       "    </tr>\n",
       "  </thead>\n",
       "  <tbody>\n",
       "    <tr>\n",
       "      <th>0</th>\n",
       "      <td>2012-09-03 00:03:19</td>\n",
       "      <td>uWWBCGJE4</td>\n",
       "      <td></td>\n",
       "      <td>冷言冷语继续这样很好</td>\n",
       "    </tr>\n",
       "    <tr>\n",
       "      <th>1</th>\n",
       "      <td>2012-09-03 00:04:12</td>\n",
       "      <td>u1O52TEBM</td>\n",
       "      <td></td>\n",
       "      <td>傻子过去就过去了越想只会让自己越来越TM看不起自己恨自己不是吗有什么了不起的人不都是在挫折中...</td>\n",
       "    </tr>\n",
       "    <tr>\n",
       "      <th>2</th>\n",
       "      <td>2012-09-03 00:02:10</td>\n",
       "      <td>u0AGHHPXK</td>\n",
       "      <td></td>\n",
       "      <td>闲来无事想破人QQ空间密码于是点击了一个美女的空间提问请问男生最喜欢什么花我暗香肯定是玫瑰因...</td>\n",
       "    </tr>\n",
       "    <tr>\n",
       "      <th>3</th>\n",
       "      <td>2012-09-03 00:07:36</td>\n",
       "      <td>uVGJLC4S5</td>\n",
       "      <td></td>\n",
       "      <td>北京今天泛起秋意</td>\n",
       "    </tr>\n",
       "    <tr>\n",
       "      <th>4</th>\n",
       "      <td>2012-09-03 02:09:32</td>\n",
       "      <td>uATZPTH53</td>\n",
       "      <td></td>\n",
       "      <td></td>\n",
       "    </tr>\n",
       "  </tbody>\n",
       "</table>\n",
       "</div>"
      ],
      "text/plain": [
       "                  time     userid hashtag  \\\n",
       "0  2012-09-03 00:03:19  uWWBCGJE4           \n",
       "1  2012-09-03 00:04:12  u1O52TEBM           \n",
       "2  2012-09-03 00:02:10  u0AGHHPXK           \n",
       "3  2012-09-03 00:07:36  uVGJLC4S5           \n",
       "4  2012-09-03 02:09:32  uATZPTH53           \n",
       "\n",
       "                                        cleaned_text  \n",
       "0                                         冷言冷语继续这样很好  \n",
       "1  傻子过去就过去了越想只会让自己越来越TM看不起自己恨自己不是吗有什么了不起的人不都是在挫折中...  \n",
       "2  闲来无事想破人QQ空间密码于是点击了一个美女的空间提问请问男生最喜欢什么花我暗香肯定是玫瑰因...  \n",
       "3                                           北京今天泛起秋意  \n",
       "4                                                     "
      ]
     },
     "execution_count": 42,
     "metadata": {},
     "output_type": "execute_result"
    }
   ],
   "source": [
    "df3.drop('hashtag', axis = 1)\n",
    "df3['hashtag'] = hashtags2\n",
    "df3.head()"
   ]
  },
  {
   "cell_type": "code",
   "execution_count": null,
   "metadata": {
    "collapsed": true
   },
   "outputs": [],
   "source": [
    "df3.to_csv('ready_for_index_long')"
   ]
  },
  {
   "cell_type": "markdown",
   "metadata": {},
   "source": [
    "# Combine overseas users"
   ]
  },
  {
   "cell_type": "code",
   "execution_count": 3,
   "metadata": {
    "collapsed": false
   },
   "outputs": [
    {
     "name": "stdout",
     "output_type": "stream",
     "text": [
      "26010\n",
      "892539\n"
     ]
    },
    {
     "data": {
      "text/html": [
       "<div>\n",
       "<table border=\"1\" class=\"dataframe\">\n",
       "  <thead>\n",
       "    <tr style=\"text-align: right;\">\n",
       "      <th></th>\n",
       "      <th>Unnamed: 0</th>\n",
       "      <th>time</th>\n",
       "      <th>userid</th>\n",
       "      <th>hashtag</th>\n",
       "      <th>cleaned_text</th>\n",
       "      <th>is_oversea</th>\n",
       "    </tr>\n",
       "  </thead>\n",
       "  <tbody>\n",
       "    <tr>\n",
       "      <th>0</th>\n",
       "      <td>0</td>\n",
       "      <td>2012-09-03 00:03:19</td>\n",
       "      <td>uWWBCGJE4</td>\n",
       "      <td>NaN</td>\n",
       "      <td>冷言冷语继续这样很好</td>\n",
       "      <td>0</td>\n",
       "    </tr>\n",
       "    <tr>\n",
       "      <th>1</th>\n",
       "      <td>1</td>\n",
       "      <td>2012-09-03 00:04:12</td>\n",
       "      <td>u1O52TEBM</td>\n",
       "      <td>NaN</td>\n",
       "      <td>傻子过去就过去了越想只会让自己越来越TM看不起自己恨自己不是吗有什么了不起的人不都是在挫折中...</td>\n",
       "      <td>1</td>\n",
       "    </tr>\n",
       "    <tr>\n",
       "      <th>2</th>\n",
       "      <td>2</td>\n",
       "      <td>2012-09-03 00:02:10</td>\n",
       "      <td>u0AGHHPXK</td>\n",
       "      <td>NaN</td>\n",
       "      <td>闲来无事想破人QQ空间密码于是点击了一个美女的空间提问请问男生最喜欢什么花我暗香肯定是玫瑰因...</td>\n",
       "      <td>0</td>\n",
       "    </tr>\n",
       "    <tr>\n",
       "      <th>3</th>\n",
       "      <td>3</td>\n",
       "      <td>2012-09-03 00:07:36</td>\n",
       "      <td>uVGJLC4S5</td>\n",
       "      <td>NaN</td>\n",
       "      <td>北京今天泛起秋意</td>\n",
       "      <td>0</td>\n",
       "    </tr>\n",
       "    <tr>\n",
       "      <th>4</th>\n",
       "      <td>4</td>\n",
       "      <td>2012-09-03 02:09:32</td>\n",
       "      <td>uATZPTH53</td>\n",
       "      <td>NaN</td>\n",
       "      <td>NaN</td>\n",
       "      <td>0</td>\n",
       "    </tr>\n",
       "  </tbody>\n",
       "</table>\n",
       "</div>"
      ],
      "text/plain": [
       "   Unnamed: 0                 time     userid hashtag  \\\n",
       "0           0  2012-09-03 00:03:19  uWWBCGJE4     NaN   \n",
       "1           1  2012-09-03 00:04:12  u1O52TEBM     NaN   \n",
       "2           2  2012-09-03 00:02:10  u0AGHHPXK     NaN   \n",
       "3           3  2012-09-03 00:07:36  uVGJLC4S5     NaN   \n",
       "4           4  2012-09-03 02:09:32  uATZPTH53     NaN   \n",
       "\n",
       "                                        cleaned_text  is_oversea  \n",
       "0                                         冷言冷语继续这样很好           0  \n",
       "1  傻子过去就过去了越想只会让自己越来越TM看不起自己恨自己不是吗有什么了不起的人不都是在挫折中...           1  \n",
       "2  闲来无事想破人QQ空间密码于是点击了一个美女的空间提问请问男生最喜欢什么花我暗香肯定是玫瑰因...           0  \n",
       "3                                           北京今天泛起秋意           0  \n",
       "4                                                NaN           0  "
      ]
     },
     "execution_count": 3,
     "metadata": {},
     "output_type": "execute_result"
    }
   ],
   "source": [
    "df = pd.read_csv('ready_for_index_long')\n",
    "f1 = open('oversea_users.csv')\n",
    "csv_f1 = csv.reader(f1)\n",
    "\n",
    "oversea = []\n",
    "for row in csv_f1:\n",
    "    oversea.append(row[0])\n",
    "    \n",
    "oversea_user_set = set(oversea)\n",
    "print len(oversea_user_set)\n",
    "\n",
    "is_oversea = []\n",
    "for index, row in df.iterrows():\n",
    "    if row['userid'] in oversea_user_set:\n",
    "        is_oversea.append(1)\n",
    "    else:\n",
    "        is_oversea.append(0)\n",
    "df['is_oversea'] = is_oversea\n",
    "print len(df)\n",
    "df.head()"
   ]
  },
  {
   "cell_type": "code",
   "execution_count": 4,
   "metadata": {
    "collapsed": true
   },
   "outputs": [],
   "source": [
    "df.to_csv('ready_for_index_long')"
   ]
  },
  {
   "cell_type": "code",
   "execution_count": 43,
   "metadata": {
    "collapsed": true
   },
   "outputs": [],
   "source": []
  },
  {
   "cell_type": "code",
   "execution_count": null,
   "metadata": {
    "collapsed": true
   },
   "outputs": [],
   "source": []
  }
 ],
 "metadata": {
  "kernelspec": {
   "display_name": "Python 2",
   "language": "python",
   "name": "python2"
  },
  "language_info": {
   "codemirror_mode": {
    "name": "ipython",
    "version": 2
   },
   "file_extension": ".py",
   "mimetype": "text/x-python",
   "name": "python",
   "nbconvert_exporter": "python",
   "pygments_lexer": "ipython2",
   "version": "2.7.11"
  }
 },
 "nbformat": 4,
 "nbformat_minor": 0
}
